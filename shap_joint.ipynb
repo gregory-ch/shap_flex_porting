{
  "cells": [
    {
      "cell_type": "markdown",
      "metadata": {
        "id": "view-in-github",
        "colab_type": "text",
        "state": {}
      },
      "source": [
        "<a href=\"https://colab.research.google.com/github/gregory-ch/shap_flex_porting/blob/main/shap_joint.ipynb\" target=\"_parent\"><img src=\"https://colab.research.google.com/assets/colab-badge.svg\" alt=\"Open In Colab\"/></a>"
      ]
    },
    {
      "cell_type": "markdown",
      "metadata": {
        "id": "YkXHIq4uKq8t"
      },
      "source": [
        "###1. Libraries installation"
      ]
    },
    {
      "cell_type": "code",
      "execution_count": null,
      "metadata": {
        "colab": {
          "base_uri": "https://localhost:8080/"
        },
        "id": "6f5ExEYEGRSJ",
        "outputId": "a7489e36-d2cc-43f8-ef05-d8cbc27508af"
      },
      "outputs": [
        {
          "output_type": "stream",
          "name": "stdout",
          "text": [
            "Looking in indexes: https://pypi.org/simple, https://us-python.pkg.dev/colab-wheels/public/simple/\n",
            "Requirement already satisfied: catboost in /usr/local/lib/python3.7/dist-packages (1.0.6)\n",
            "Requirement already satisfied: numpy>=1.16.0 in /usr/local/lib/python3.7/dist-packages (from catboost) (1.21.6)\n",
            "Requirement already satisfied: scipy in /usr/local/lib/python3.7/dist-packages (from catboost) (1.4.1)\n",
            "Requirement already satisfied: graphviz in /usr/local/lib/python3.7/dist-packages (from catboost) (0.10.1)\n",
            "Requirement already satisfied: pandas>=0.24.0 in /usr/local/lib/python3.7/dist-packages (from catboost) (1.3.5)\n",
            "Requirement already satisfied: six in /usr/local/lib/python3.7/dist-packages (from catboost) (1.15.0)\n",
            "Requirement already satisfied: plotly in /usr/local/lib/python3.7/dist-packages (from catboost) (5.5.0)\n",
            "Requirement already satisfied: matplotlib in /usr/local/lib/python3.7/dist-packages (from catboost) (3.2.2)\n",
            "Requirement already satisfied: pytz>=2017.3 in /usr/local/lib/python3.7/dist-packages (from pandas>=0.24.0->catboost) (2022.1)\n",
            "Requirement already satisfied: python-dateutil>=2.7.3 in /usr/local/lib/python3.7/dist-packages (from pandas>=0.24.0->catboost) (2.8.2)\n",
            "Requirement already satisfied: pyparsing!=2.0.4,!=2.1.2,!=2.1.6,>=2.0.1 in /usr/local/lib/python3.7/dist-packages (from matplotlib->catboost) (3.0.9)\n",
            "Requirement already satisfied: kiwisolver>=1.0.1 in /usr/local/lib/python3.7/dist-packages (from matplotlib->catboost) (1.4.2)\n",
            "Requirement already satisfied: cycler>=0.10 in /usr/local/lib/python3.7/dist-packages (from matplotlib->catboost) (0.11.0)\n",
            "Requirement already satisfied: typing-extensions in /usr/local/lib/python3.7/dist-packages (from kiwisolver>=1.0.1->matplotlib->catboost) (4.2.0)\n",
            "Requirement already satisfied: tenacity>=6.2.0 in /usr/local/lib/python3.7/dist-packages (from plotly->catboost) (8.0.1)\n",
            "Looking in indexes: https://pypi.org/simple, https://us-python.pkg.dev/colab-wheels/public/simple/\n",
            "Requirement already satisfied: shap in /usr/local/lib/python3.7/dist-packages (0.40.0)\n",
            "Requirement already satisfied: scipy in /usr/local/lib/python3.7/dist-packages (from shap) (1.4.1)\n",
            "Requirement already satisfied: tqdm>4.25.0 in /usr/local/lib/python3.7/dist-packages (from shap) (4.64.0)\n",
            "Requirement already satisfied: cloudpickle in /usr/local/lib/python3.7/dist-packages (from shap) (1.3.0)\n",
            "Requirement already satisfied: numba in /usr/local/lib/python3.7/dist-packages (from shap) (0.51.2)\n",
            "Requirement already satisfied: scikit-learn in /usr/local/lib/python3.7/dist-packages (from shap) (1.0.2)\n",
            "Requirement already satisfied: pandas in /usr/local/lib/python3.7/dist-packages (from shap) (1.3.5)\n",
            "Requirement already satisfied: numpy in /usr/local/lib/python3.7/dist-packages (from shap) (1.21.6)\n",
            "Requirement already satisfied: packaging>20.9 in /usr/local/lib/python3.7/dist-packages (from shap) (21.3)\n",
            "Requirement already satisfied: slicer==0.0.7 in /usr/local/lib/python3.7/dist-packages (from shap) (0.0.7)\n",
            "Requirement already satisfied: pyparsing!=3.0.5,>=2.0.2 in /usr/local/lib/python3.7/dist-packages (from packaging>20.9->shap) (3.0.9)\n",
            "Requirement already satisfied: llvmlite<0.35,>=0.34.0.dev0 in /usr/local/lib/python3.7/dist-packages (from numba->shap) (0.34.0)\n",
            "Requirement already satisfied: setuptools in /usr/local/lib/python3.7/dist-packages (from numba->shap) (57.4.0)\n",
            "Requirement already satisfied: pytz>=2017.3 in /usr/local/lib/python3.7/dist-packages (from pandas->shap) (2022.1)\n",
            "Requirement already satisfied: python-dateutil>=2.7.3 in /usr/local/lib/python3.7/dist-packages (from pandas->shap) (2.8.2)\n",
            "Requirement already satisfied: six>=1.5 in /usr/local/lib/python3.7/dist-packages (from python-dateutil>=2.7.3->pandas->shap) (1.15.0)\n",
            "Requirement already satisfied: threadpoolctl>=2.0.0 in /usr/local/lib/python3.7/dist-packages (from scikit-learn->shap) (3.1.0)\n",
            "Requirement already satisfied: joblib>=0.11 in /usr/local/lib/python3.7/dist-packages (from scikit-learn->shap) (1.1.0)\n",
            "Looking in indexes: https://pypi.org/simple, https://us-python.pkg.dev/colab-wheels/public/simple/\n",
            "Requirement already satisfied: igraph in /usr/local/lib/python3.7/dist-packages (0.9.10)\n",
            "Requirement already satisfied: texttable>=1.6.2 in /usr/local/lib/python3.7/dist-packages (from igraph) (1.6.4)\n",
            "Looking in indexes: https://pypi.org/simple, https://us-python.pkg.dev/colab-wheels/public/simple/\n",
            "Requirement already satisfied: shapflex in /usr/local/lib/python3.7/dist-packages (0.0.2)\n",
            "Looking in indexes: https://pypi.org/simple, https://us-python.pkg.dev/colab-wheels/public/simple/\n",
            "Requirement already satisfied: causal-learn in /usr/local/lib/python3.7/dist-packages (0.1.2.4)\n",
            "Requirement already satisfied: scipy in /usr/local/lib/python3.7/dist-packages (from causal-learn) (1.4.1)\n",
            "Requirement already satisfied: scikit-learn in /usr/local/lib/python3.7/dist-packages (from causal-learn) (1.0.2)\n",
            "Requirement already satisfied: numpy in /usr/local/lib/python3.7/dist-packages (from causal-learn) (1.21.6)\n",
            "Requirement already satisfied: graphviz in /usr/local/lib/python3.7/dist-packages (from causal-learn) (0.10.1)\n",
            "Requirement already satisfied: tqdm in /usr/local/lib/python3.7/dist-packages (from causal-learn) (4.64.0)\n",
            "Requirement already satisfied: statsmodels in /usr/local/lib/python3.7/dist-packages (from causal-learn) (0.10.2)\n",
            "Requirement already satisfied: pandas in /usr/local/lib/python3.7/dist-packages (from causal-learn) (1.3.5)\n",
            "Requirement already satisfied: networkx in /usr/local/lib/python3.7/dist-packages (from causal-learn) (2.6.3)\n",
            "Requirement already satisfied: pydot in /usr/local/lib/python3.7/dist-packages (from causal-learn) (1.3.0)\n",
            "Requirement already satisfied: matplotlib in /usr/local/lib/python3.7/dist-packages (from causal-learn) (3.2.2)\n",
            "Requirement already satisfied: python-dateutil>=2.1 in /usr/local/lib/python3.7/dist-packages (from matplotlib->causal-learn) (2.8.2)\n",
            "Requirement already satisfied: kiwisolver>=1.0.1 in /usr/local/lib/python3.7/dist-packages (from matplotlib->causal-learn) (1.4.2)\n",
            "Requirement already satisfied: cycler>=0.10 in /usr/local/lib/python3.7/dist-packages (from matplotlib->causal-learn) (0.11.0)\n",
            "Requirement already satisfied: pyparsing!=2.0.4,!=2.1.2,!=2.1.6,>=2.0.1 in /usr/local/lib/python3.7/dist-packages (from matplotlib->causal-learn) (3.0.9)\n",
            "Requirement already satisfied: typing-extensions in /usr/local/lib/python3.7/dist-packages (from kiwisolver>=1.0.1->matplotlib->causal-learn) (4.2.0)\n",
            "Requirement already satisfied: six>=1.5 in /usr/local/lib/python3.7/dist-packages (from python-dateutil>=2.1->matplotlib->causal-learn) (1.15.0)\n",
            "Requirement already satisfied: pytz>=2017.3 in /usr/local/lib/python3.7/dist-packages (from pandas->causal-learn) (2022.1)\n",
            "Requirement already satisfied: threadpoolctl>=2.0.0 in /usr/local/lib/python3.7/dist-packages (from scikit-learn->causal-learn) (3.1.0)\n",
            "Requirement already satisfied: joblib>=0.11 in /usr/local/lib/python3.7/dist-packages (from scikit-learn->causal-learn) (1.1.0)\n",
            "Requirement already satisfied: patsy>=0.4.0 in /usr/local/lib/python3.7/dist-packages (from statsmodels->causal-learn) (0.5.2)\n"
          ]
        }
      ],
      "source": [
        "!pip install catboost\n",
        "!pip install shap\n",
        "!pip install igraph\n",
        "!pip install shapflex\n",
        "!pip install causal-learn"
      ]
    },
    {
      "cell_type": "markdown",
      "metadata": {
        "id": "ws_xAE1eK04f"
      },
      "source": [
        "###2. Data downloading\n",
        "\n",
        " source: [Data](https://github.com/ShawhinT/YouTube-Blog/blob/main/causal_discovery/df_causal_discovery.p), [Tutorial](https://towardsdatascience.com/causal-discovery-6858f9af6dcb)"
      ]
    },
    {
      "cell_type": "code",
      "execution_count": null,
      "metadata": {
        "id": "rOQv0qcIFtIP"
      },
      "outputs": [],
      "source": [
        "import pickle\n",
        "import matplotlib.pyplot as plt\n",
        "df = pickle.load( open( \"df_causal_discovery.p\", \"rb\") )"
      ]
    },
    {
      "cell_type": "markdown",
      "metadata": {
        "id": "J0DhX0KyLTfD"
      },
      "source": [
        "### 3. Setting a model to explain"
      ]
    },
    {
      "cell_type": "code",
      "execution_count": null,
      "metadata": {
        "colab": {
          "base_uri": "https://localhost:8080/"
        },
        "id": "avVoJKv7GqK7",
        "outputId": "00bf8597-ba21-4597-de73-7b4ba1fb0d54"
      },
      "outputs": [
        {
          "output_type": "stream",
          "name": "stdout",
          "text": [
            "Learning rate set to 0.043497\n",
            "0:\tlearn: 0.6623482\ttotal: 7.19ms\tremaining: 7.19s\n",
            "100:\tlearn: 0.4141735\ttotal: 653ms\tremaining: 5.81s\n",
            "200:\tlearn: 0.4106785\ttotal: 1.5s\tremaining: 5.96s\n",
            "300:\tlearn: 0.4079625\ttotal: 2.3s\tremaining: 5.35s\n",
            "400:\tlearn: 0.4053425\ttotal: 2.95s\tremaining: 4.4s\n",
            "500:\tlearn: 0.4030620\ttotal: 4.22s\tremaining: 4.21s\n",
            "600:\tlearn: 0.4011586\ttotal: 5.88s\tremaining: 3.9s\n",
            "700:\tlearn: 0.3995024\ttotal: 7.57s\tremaining: 3.23s\n",
            "800:\tlearn: 0.3980119\ttotal: 9.4s\tremaining: 2.34s\n",
            "900:\tlearn: 0.3966029\ttotal: 11.2s\tremaining: 1.23s\n",
            "999:\tlearn: 0.3952973\ttotal: 12.8s\tremaining: 0us\n"
          ]
        }
      ],
      "source": [
        "import pandas as pd\n",
        "import numpy as np\n",
        "from catboost import CatBoostClassifier\n",
        "data_to_explain = df.copy()\n",
        "outcome_name = 'greaterThan50k'\n",
        "outcome_col = pd.Series(data_to_explain.columns)[data_to_explain.columns==outcome_name].index[0]\n",
        "X, y = data_to_explain.drop(outcome_name, axis=1), data_to_explain[outcome_name].values\n",
        "model = CatBoostClassifier(iterations=1000)\n",
        "model.fit(X, y, verbose=100)\n",
        "def predict_function(model, data_to_explain):\n",
        "  return pd.DataFrame(model.predict_proba(data_to_explain)[:, [0]])"
      ]
    },
    {
      "cell_type": "markdown",
      "metadata": {
        "id": "rkjPW4fiLbD1"
      },
      "source": [
        "###4. Non-causal case: symmetric shapley values, no prior knowledge"
      ]
    },
    {
      "cell_type": "code",
      "execution_count": null,
      "metadata": {
        "id": "fK3URhheGuAk"
      },
      "outputs": [],
      "source": [
        "from shapflex.shapflex import shapFlex_plus\n",
        "\n",
        "explain, reference = data_to_explain.iloc[:300, :data_to_explain.shape[1]-1], data_to_explain.iloc[:, :data_to_explain.shape[1]-1]\n",
        "exmpl_of_test = shapFlex_plus(explain, model, predict_function, target_features=pd.Series([\n",
        "                                                                                         \"age\", \"inRelationship\", \n",
        "                                                                                         \"hours-per-week\", \"hasGraduateDegree\",\n",
        "                                                                                         \"isFemale\", \"isWhite\"])\n",
        ")\n",
        "result = exmpl_of_test.forward()"
      ]
    },
    {
      "cell_type": "markdown",
      "metadata": {
        "id": "ua4MPBJ9NcEG"
      },
      "source": [
        "Assembling a causal data to a format with which shap's beeswarm is able to deal"
      ]
    },
    {
      "cell_type": "code",
      "execution_count": null,
      "metadata": {
        "id": "Lo9WdEr6G5tr"
      },
      "outputs": [],
      "source": [
        "from shap._explanation import Explanation\n",
        "values = pd.DataFrame(result['shap_effect'].values.reshape(-1, 6), columns = result['feature_name'].unique()).values\n",
        "base_values = np.array([result['shap_effect intercept'][0] for i in range(explain.shape[0])])\n",
        "data = explain.values\n",
        "shap_values_shapflex = Explanation(values, base_values=base_values, data=data, feature_names=result.loc[:5, 'feature_name'].values)"
      ]
    },
    {
      "cell_type": "code",
      "execution_count": null,
      "metadata": {
        "colab": {
          "base_uri": "https://localhost:8080/",
          "height": 281
        },
        "id": "BWhhICMYHArF",
        "outputId": "a0cda528-d4a5-486f-81db-699ad86f90d2"
      },
      "outputs": [
        {
          "output_type": "display_data",
          "data": {
            "text/plain": [
              "<Figure size 576x280.8 with 2 Axes>"
            ],
            "image/png": "[encoded data removed]"
          },
          "metadata": {
            "needs_background": "light"
          }
        }
      ],
      "source": [
        "import shap\n",
        "shap.plots.beeswarm(shap_values=shap_values_shapflex )"
      ]
    },
    {
      "cell_type": "markdown",
      "metadata": {
        "id": "8vkD3iAULkZs"
      },
      "source": [
        "###5. Building a causal graph, FCI algorithm.\n",
        "\n",
        "  step 1: Use FCI without prior knowledge"
      ]
    },
    {
      "cell_type": "code",
      "execution_count": null,
      "metadata": {
        "colab": {
          "base_uri": "https://localhost:8080/",
          "height": 153,
          "referenced_widgets": [
            "c6a985e53a724b16bb13ef0a60cf8638",
            "9e7fabedc35b449a9b267751f5fb689f",
            "2574587dde424afdbf94ed39fb755e20",
            "6f7e5040a11a420290b0220cf28add3a",
            "b234e7ad10a04838b1370e83bfbc437e",
            "535d65746fe6430ea541401423073262",
            "0a5bf8636c8b49e0b73edf37ffee8899",
            "f714f33feafa476ba117945e510b0e18",
            "9456400bbee4468ba18a04baf684eb7e",
            "82c459f4bdd54e90aa2207e67a865272",
            "c059ecb1ba87453caa06e029162202e9"
          ]
        },
        "id": "oLsPncr0HEfm",
        "outputId": "b5bb701f-3832-4b1f-f4f1-1bf2c8de6a16"
      },
      "outputs": [
        {
          "output_type": "stream",
          "name": "stdout",
          "text": [
            "Starting Fast Adjacency Search.\n"
          ]
        },
        {
          "output_type": "display_data",
          "data": {
            "text/plain": [
              "  0%|          | 0/7 [00:00<?, ?it/s]"
            ],
            "application/vnd.jupyter.widget-view+json": {
              "version_major": 2,
              "version_minor": 0,
              "model_id": "c6a985e53a724b16bb13ef0a60cf8638"
            }
          },
          "metadata": {}
        },
        {
          "output_type": "stream",
          "name": "stdout",
          "text": [
            "Finishing Fast Adjacency Search.\n",
            "X1 --> X4\n",
            "X1 --> X7\n",
            "X2 --> X4\n",
            "X7 --> X5\n"
          ]
        }
      ],
      "source": [
        "from causallearn.search.ConstraintBased.FCI import fci\n",
        "G = fci(df)"
      ]
    },
    {
      "cell_type": "markdown",
      "metadata": {
        "id": "_XRmNBu4L7jc"
      },
      "source": [
        " step 2: turn off some nodes"
      ]
    },
    {
      "cell_type": "code",
      "execution_count": null,
      "metadata": {
        "colab": {
          "base_uri": "https://localhost:8080/",
          "height": 552,
          "referenced_widgets": [
            "f1538f23aa12426faba79efd2d5e6962",
            "fe7edafde2544f7f93a2da5753656965",
            "130a85da424c44779564394e824893ce",
            "241ccc608c464be59a1999d12929b32c",
            "b0a428c625a043638052eec12c45079d",
            "a485acd7696f4dd98930ba949cade921",
            "ed633cd041df434bb65da19e50ab27d1",
            "a2144747a72644f3a2d3b7a27766a5ed",
            "4b83a58a7b384fad99967dc5f12184f3",
            "6d8fadbc258944a28995af36e0495e6a",
            "cd98b94f49454f4db896cf99244352d4"
          ]
        },
        "id": "vbjMZLrzHMU9",
        "outputId": "1480a8eb-9e57-4527-8aa1-b16935c80c27"
      },
      "outputs": [
        {
          "output_type": "stream",
          "name": "stdout",
          "text": [
            "Starting Fast Adjacency Search.\n"
          ]
        },
        {
          "output_type": "display_data",
          "data": {
            "text/plain": [
              "  0%|          | 0/7 [00:00<?, ?it/s]"
            ],
            "application/vnd.jupyter.widget-view+json": {
              "version_major": 2,
              "version_minor": 0,
              "model_id": "f1538f23aa12426faba79efd2d5e6962"
            }
          },
          "metadata": {}
        },
        {
          "output_type": "stream",
          "name": "stdout",
          "text": [
            "X1 --- X6 because it was forbidden by background background_knowledge.\n",
            "X5 --- X6 because it was forbidden by background background_knowledge.\n",
            "Finishing Fast Adjacency Search.\n",
            "Starting BK Orientation.\n",
            "Orienting edge (Knowledge): X1 --> X3\n",
            "Orienting edge (Knowledge): X3 --> X2\n",
            "Orienting edge (Knowledge): X5 --> X2\n",
            "Orienting edge (Knowledge): X2 --> X6\n",
            "Orienting edge (Knowledge): X5 --> X3\n",
            "Orienting edge (Knowledge): X5 --> X4\n",
            "Orienting edge (Knowledge): X6 --> X4\n",
            "Orienting edge (Knowledge): X5 --> X7\n",
            "Finishing BK Orientation.\n",
            "Starting BK Orientation.\n",
            "Orienting edge (Knowledge): X1 --> X3\n",
            "Orienting edge (Knowledge): X3 --> X2\n",
            "Orienting edge (Knowledge): X5 --> X2\n",
            "Orienting edge (Knowledge): X2 --> X6\n",
            "Orienting edge (Knowledge): X5 --> X3\n",
            "Orienting edge (Knowledge): X5 --> X4\n",
            "Orienting edge (Knowledge): X6 --> X4\n",
            "Orienting edge (Knowledge): X5 --> X7\n",
            "Finishing BK Orientation.\n",
            "X3 --> X2\n",
            "X2 --> X4\n",
            "X2 --> X6\n",
            "X6 --> X4\n",
            "X4 --> X7\n"
          ]
        }
      ],
      "source": [
        "from causallearn.utils.PCUtils.BackgroundKnowledge import BackgroundKnowledge\n",
        "nodes = G[0].get_nodes()\n",
        "bc = BackgroundKnowledge() \\\n",
        "            .add_forbidden_by_node(nodes[2], nodes[0]) \\\n",
        "            .add_forbidden_by_node(nodes[1], nodes[2]) \\\n",
        "            .add_forbidden_by_node(nodes[4], nodes[5]) \\\n",
        "            .add_forbidden_by_node(nodes[5], nodes[4]) \\\n",
        "            .add_forbidden_by_node(nodes[5], nodes[0]) \\\n",
        "            .add_forbidden_by_node(nodes[0], nodes[5]) \\\n",
        "            .add_forbidden_by_node(nodes[3], nodes[4]) \\\n",
        "            .add_forbidden_by_node(nodes[6], nodes[4]) \\\n",
        "            .add_forbidden_by_node(nodes[3], nodes[5]) \\\n",
        "            .add_forbidden_by_node(nodes[2], nodes[4]) \\\n",
        "            .add_forbidden_by_node(nodes[1], nodes[4]) \\\n",
        "            .add_required_by_node(nodes[1], nodes[5])\n",
        "\n",
        "G2 = fci(df, background_knowledge=bc)"
      ]
    },
    {
      "cell_type": "markdown",
      "metadata": {
        "id": "EBN0sbfzMDXW"
      },
      "source": [
        "###6. Assembling a causal dataframe from a causal graph"
      ]
    },
    {
      "cell_type": "code",
      "execution_count": null,
      "metadata": {
        "id": "fdSzImPxHS2x"
      },
      "outputs": [],
      "source": [
        "nodes = []\n",
        "for edge in G2[1]:\n",
        "  nodes.append([edge.get_node1().get_name(), edge.get_node2().get_name()])\n",
        "\n",
        "names = {x:y for x, y in zip([\n",
        "                              'X' + str(i) for i in range(1, 8)\n",
        "], df.columns.values\n",
        ")}\n",
        "\n",
        "causal = pd.DataFrame()\n",
        "causal['cause'] = pd.DataFrame(nodes)[0].apply(lambda x: names[x])\n",
        "causal['effect'] = pd.DataFrame(nodes)[1].apply(lambda x: names[x])"
      ]
    },
    {
      "cell_type": "markdown",
      "metadata": {
        "id": "A0zsPjsXMcro"
      },
      "source": [
        "We don't want to have an objective node in our graph. Also, though we turned off an edge 'hours-per-week' $\\rightarrow$ 'isFemale' it somehow appeared in a graph. So, we have to delete it."
      ]
    },
    {
      "cell_type": "code",
      "execution_count": null,
      "metadata": {
        "id": "7nlFd3wLHafP"
      },
      "outputs": [],
      "source": [
        "causal_without_objective = causal.where(causal!='greaterThan50k').dropna(axis=0)\n",
        "causal_without_objective = causal_without_objective.drop(6).reset_index(drop=True)"
      ]
    },
    {
      "cell_type": "code",
      "execution_count": null,
      "metadata": {
        "colab": {
          "base_uri": "https://localhost:8080/",
          "height": 738
        },
        "id": "N7q_6K2cJ8Sz",
        "outputId": "574056f0-3590-461c-fe9e-40dd343acef6"
      },
      "outputs": [
        {
          "output_type": "display_data",
          "data": {
            "text/plain": [
              "<Figure size 1080x936 with 1 Axes>"
            ],
            "image/png": "[encoded data removed]"
          },
          "metadata": {}
        }
      ],
      "source": [
        "import networkx as nx\n",
        "fig = plt.figure(figsize=(15, 13))\n",
        "nx.draw_networkx(nx.from_pandas_edgelist(causal_without_objective, source='cause', target='effect', create_using=nx.classes.digraph.DiGraph), font_size=18, font_color='r', arrowsize=30)"
      ]
    },
    {
      "cell_type": "markdown",
      "metadata": {
        "id": "zNc6bLSBNUUx"
      },
      "source": [
        "###7. Running a causal case"
      ]
    },
    {
      "cell_type": "code",
      "execution_count": null,
      "metadata": {
        "id": "Ziq3ClE7Hflo",
        "colab": {
          "base_uri": "https://localhost:8080/"
        },
        "outputId": "11e52cb7-6aff-4998-e3c1-833afd22f3d5"
      },
      "outputs": [
        {
          "output_type": "stream",
          "name": "stderr",
          "text": [
            "\n",
            "A value is trying to be set on a copy of a slice from a DataFrame.\n",
            "Try using .loc[row_indexer,col_indexer] = value instead\n",
            "\n",
            "See the caveats in the documentation: https://pandas.pydata.org/pandas-docs/stable/user_guide/indexing.html#returning-a-view-versus-a-copy\n",
            "\n",
            "A value is trying to be set on a copy of a slice from a DataFrame.\n",
            "Try using .loc[row_indexer,col_indexer] = value instead\n",
            "\n",
            "See the caveats in the documentation: https://pandas.pydata.org/pandas-docs/stable/user_guide/indexing.html#returning-a-view-versus-a-copy\n",
            "\n",
            "A value is trying to be set on a copy of a slice from a DataFrame.\n",
            "Try using .loc[row_indexer,col_indexer] = value instead\n",
            "\n",
            "See the caveats in the documentation: https://pandas.pydata.org/pandas-docs/stable/user_guide/indexing.html#returning-a-view-versus-a-copy\n",
            "\n",
            "A value is trying to be set on a copy of a slice from a DataFrame.\n",
            "Try using .loc[row_indexer,col_indexer] = value instead\n",
            "\n",
            "See the caveats in the documentation: https://pandas.pydata.org/pandas-docs/stable/user_guide/indexing.html#returning-a-view-versus-a-copy\n",
            "Dropping of nuisance columns in DataFrame reductions (with 'numeric_only=None') is deprecated; in a future version this will raise TypeError.  Select only valid columns before calling the reduction.\n"
          ]
        }
      ],
      "source": [
        "exmpl_of_test = shapFlex_plus(explain, model, predict_function, target_features=pd.Series(\n",
        "    ['age', 'hours-per-week', 'hasGraduateDegree', 'inRelationship',\n",
        "       'isWhite', 'isFemale']), causal=causal_without_objective, causal_weights=[1. for i in range(causal_without_objective.shape[0])])\n",
        "result = exmpl_of_test.forward()"
      ]
    },
    {
      "cell_type": "code",
      "execution_count": null,
      "metadata": {
        "id": "nSM3AXg1J78E"
      },
      "outputs": [],
      "source": [
        "values = pd.DataFrame(result['shap_effect'].values.reshape(-1, 6), columns = result['feature_name'].unique()).values\n",
        "base_values = np.array([result['shap_effect intercept'][0] for i in range(explain.shape[0])])\n",
        "data = explain.values\n",
        "shap_values_shapflex = Explanation(values, base_values=base_values, data=data, feature_names=result.loc[:5, 'feature_name'].values)"
      ]
    },
    {
      "cell_type": "code",
      "execution_count": null,
      "metadata": {
        "id": "Ge7F5cqwJ_wt",
        "colab": {
          "base_uri": "https://localhost:8080/",
          "height": 281
        },
        "outputId": "9c43a72a-ce0d-4e1d-cf5e-70a14337f18c"
      },
      "outputs": [
        {
          "output_type": "display_data",
          "data": {
            "text/plain": [
              "<Figure size 576x280.8 with 2 Axes>"
            ],
            "image/png": "[encoded data removed]"
          },
          "metadata": {
            "needs_background": "light"
          }
        }
      ],
      "source": [
        "shap.plots.beeswarm(shap_values=shap_values_shapflex )"
      ]
    }
  ],
  "metadata": {
    "colab": {
      "collapsed_sections": [],
      "name": "shap_joint",
      "provenance": [],
      "include_colab_link": true
    },
    "kernelspec": {
      "display_name": "Python 3",
      "name": "python3"
    },
    "language_info": {
      "name": "python"
    },
    "widgets": {
      "application/vnd.jupyter.widget-state+json": {
        "c6a985e53a724b16bb13ef0a60cf8638": {
          "model_module": "@jupyter-widgets/controls",
          "model_name": "HBoxModel",
          "model_module_version": "1.5.0",
          "state": {
            "_dom_classes": [],
            "_model_module": "@jupyter-widgets/controls",
            "_model_module_version": "1.5.0",
            "_model_name": "HBoxModel",
            "_view_count": null,
            "_view_module": "@jupyter-widgets/controls",
            "_view_module_version": "1.5.0",
            "_view_name": "HBoxView",
            "box_style": "",
            "children": [
              "IPY_MODEL_9e7fabedc35b449a9b267751f5fb689f",
              "IPY_MODEL_2574587dde424afdbf94ed39fb755e20",
              "IPY_MODEL_6f7e5040a11a420290b0220cf28add3a"
            ],
            "layout": "IPY_MODEL_b234e7ad10a04838b1370e83bfbc437e"
          }
        },
        "9e7fabedc35b449a9b267751f5fb689f": {
          "model_module": "@jupyter-widgets/controls",
          "model_name": "HTMLModel",
          "model_module_version": "1.5.0",
          "state": {
            "_dom_classes": [],
            "_model_module": "@jupyter-widgets/controls",
            "_model_module_version": "1.5.0",
            "_model_name": "HTMLModel",
            "_view_count": null,
            "_view_module": "@jupyter-widgets/controls",
            "_view_module_version": "1.5.0",
            "_view_name": "HTMLView",
            "description": "",
            "description_tooltip": null,
            "layout": "IPY_MODEL_535d65746fe6430ea541401423073262",
            "placeholder": "​",
            "style": "IPY_MODEL_0a5bf8636c8b49e0b73edf37ffee8899",
            "value": "Depth=4, working on node 6: 100%"
          }
        },
        "2574587dde424afdbf94ed39fb755e20": {
          "model_module": "@jupyter-widgets/controls",
          "model_name": "FloatProgressModel",
          "model_module_version": "1.5.0",
          "state": {
            "_dom_classes": [],
            "_model_module": "@jupyter-widgets/controls",
            "_model_module_version": "1.5.0",
            "_model_name": "FloatProgressModel",
            "_view_count": null,
            "_view_module": "@jupyter-widgets/controls",
            "_view_module_version": "1.5.0",
            "_view_name": "ProgressView",
            "bar_style": "success",
            "description": "",
            "description_tooltip": null,
            "layout": "IPY_MODEL_f714f33feafa476ba117945e510b0e18",
            "max": 7,
            "min": 0,
            "orientation": "horizontal",
            "style": "IPY_MODEL_9456400bbee4468ba18a04baf684eb7e",
            "value": 7
          }
        },
        "6f7e5040a11a420290b0220cf28add3a": {
          "model_module": "@jupyter-widgets/controls",
          "model_name": "HTMLModel",
          "model_module_version": "1.5.0",
          "state": {
            "_dom_classes": [],
            "_model_module": "@jupyter-widgets/controls",
            "_model_module_version": "1.5.0",
            "_model_name": "HTMLModel",
            "_view_count": null,
            "_view_module": "@jupyter-widgets/controls",
            "_view_module_version": "1.5.0",
            "_view_name": "HTMLView",
            "description": "",
            "description_tooltip": null,
            "layout": "IPY_MODEL_82c459f4bdd54e90aa2207e67a865272",
            "placeholder": "​",
            "style": "IPY_MODEL_c059ecb1ba87453caa06e029162202e9",
            "value": " 7/7 [00:00&lt;00:00, 46.92it/s]"
          }
        },
        "b234e7ad10a04838b1370e83bfbc437e": {
          "model_module": "@jupyter-widgets/base",
          "model_name": "LayoutModel",
          "model_module_version": "1.2.0",
          "state": {
            "_model_module": "@jupyter-widgets/base",
            "_model_module_version": "1.2.0",
            "_model_name": "LayoutModel",
            "_view_count": null,
            "_view_module": "@jupyter-widgets/base",
            "_view_module_version": "1.2.0",
            "_view_name": "LayoutView",
            "align_content": null,
            "align_items": null,
            "align_self": null,
            "border": null,
            "bottom": null,
            "display": null,
            "flex": null,
            "flex_flow": null,
            "grid_area": null,
            "grid_auto_columns": null,
            "grid_auto_flow": null,
            "grid_auto_rows": null,
            "grid_column": null,
            "grid_gap": null,
            "grid_row": null,
            "grid_template_areas": null,
            "grid_template_columns": null,
            "grid_template_rows": null,
            "height": null,
            "justify_content": null,
            "justify_items": null,
            "left": null,
            "margin": null,
            "max_height": null,
            "max_width": null,
            "min_height": null,
            "min_width": null,
            "object_fit": null,
            "object_position": null,
            "order": null,
            "overflow": null,
            "overflow_x": null,
            "overflow_y": null,
            "padding": null,
            "right": null,
            "top": null,
            "visibility": null,
            "width": null
          }
        },
        "535d65746fe6430ea541401423073262": {
          "model_module": "@jupyter-widgets/base",
          "model_name": "LayoutModel",
          "model_module_version": "1.2.0",
          "state": {
            "_model_module": "@jupyter-widgets/base",
            "_model_module_version": "1.2.0",
            "_model_name": "LayoutModel",
            "_view_count": null,
            "_view_module": "@jupyter-widgets/base",
            "_view_module_version": "1.2.0",
            "_view_name": "LayoutView",
            "align_content": null,
            "align_items": null,
            "align_self": null,
            "border": null,
            "bottom": null,
            "display": null,
            "flex": null,
            "flex_flow": null,
            "grid_area": null,
            "grid_auto_columns": null,
            "grid_auto_flow": null,
            "grid_auto_rows": null,
            "grid_column": null,
            "grid_gap": null,
            "grid_row": null,
            "grid_template_areas": null,
            "grid_template_columns": null,
            "grid_template_rows": null,
            "height": null,
            "justify_content": null,
            "justify_items": null,
            "left": null,
            "margin": null,
            "max_height": null,
            "max_width": null,
            "min_height": null,
            "min_width": null,
            "object_fit": null,
            "object_position": null,
            "order": null,
            "overflow": null,
            "overflow_x": null,
            "overflow_y": null,
            "padding": null,
            "right": null,
            "top": null,
            "visibility": null,
            "width": null
          }
        },
        "0a5bf8636c8b49e0b73edf37ffee8899": {
          "model_module": "@jupyter-widgets/controls",
          "model_name": "DescriptionStyleModel",
          "model_module_version": "1.5.0",
          "state": {
            "_model_module": "@jupyter-widgets/controls",
            "_model_module_version": "1.5.0",
            "_model_name": "DescriptionStyleModel",
            "_view_count": null,
            "_view_module": "@jupyter-widgets/base",
            "_view_module_version": "1.2.0",
            "_view_name": "StyleView",
            "description_width": ""
          }
        },
        "f714f33feafa476ba117945e510b0e18": {
          "model_module": "@jupyter-widgets/base",
          "model_name": "LayoutModel",
          "model_module_version": "1.2.0",
          "state": {
            "_model_module": "@jupyter-widgets/base",
            "_model_module_version": "1.2.0",
            "_model_name": "LayoutModel",
            "_view_count": null,
            "_view_module": "@jupyter-widgets/base",
            "_view_module_version": "1.2.0",
            "_view_name": "LayoutView",
            "align_content": null,
            "align_items": null,
            "align_self": null,
            "border": null,
            "bottom": null,
            "display": null,
            "flex": null,
            "flex_flow": null,
            "grid_area": null,
            "grid_auto_columns": null,
            "grid_auto_flow": null,
            "grid_auto_rows": null,
            "grid_column": null,
            "grid_gap": null,
            "grid_row": null,
            "grid_template_areas": null,
            "grid_template_columns": null,
            "grid_template_rows": null,
            "height": null,
            "justify_content": null,
            "justify_items": null,
            "left": null,
            "margin": null,
            "max_height": null,
            "max_width": null,
            "min_height": null,
            "min_width": null,
            "object_fit": null,
            "object_position": null,
            "order": null,
            "overflow": null,
            "overflow_x": null,
            "overflow_y": null,
            "padding": null,
            "right": null,
            "top": null,
            "visibility": null,
            "width": null
          }
        },
        "9456400bbee4468ba18a04baf684eb7e": {
          "model_module": "@jupyter-widgets/controls",
          "model_name": "ProgressStyleModel",
          "model_module_version": "1.5.0",
          "state": {
            "_model_module": "@jupyter-widgets/controls",
            "_model_module_version": "1.5.0",
            "_model_name": "ProgressStyleModel",
            "_view_count": null,
            "_view_module": "@jupyter-widgets/base",
            "_view_module_version": "1.2.0",
            "_view_name": "StyleView",
            "bar_color": null,
            "description_width": ""
          }
        },
        "82c459f4bdd54e90aa2207e67a865272": {
          "model_module": "@jupyter-widgets/base",
          "model_name": "LayoutModel",
          "model_module_version": "1.2.0",
          "state": {
            "_model_module": "@jupyter-widgets/base",
            "_model_module_version": "1.2.0",
            "_model_name": "LayoutModel",
            "_view_count": null,
            "_view_module": "@jupyter-widgets/base",
            "_view_module_version": "1.2.0",
            "_view_name": "LayoutView",
            "align_content": null,
            "align_items": null,
            "align_self": null,
            "border": null,
            "bottom": null,
            "display": null,
            "flex": null,
            "flex_flow": null,
            "grid_area": null,
            "grid_auto_columns": null,
            "grid_auto_flow": null,
            "grid_auto_rows": null,
            "grid_column": null,
            "grid_gap": null,
            "grid_row": null,
            "grid_template_areas": null,
            "grid_template_columns": null,
            "grid_template_rows": null,
            "height": null,
            "justify_content": null,
            "justify_items": null,
            "left": null,
            "margin": null,
            "max_height": null,
            "max_width": null,
            "min_height": null,
            "min_width": null,
            "object_fit": null,
            "object_position": null,
            "order": null,
            "overflow": null,
            "overflow_x": null,
            "overflow_y": null,
            "padding": null,
            "right": null,
            "top": null,
            "visibility": null,
            "width": null
          }
        },
        "c059ecb1ba87453caa06e029162202e9": {
          "model_module": "@jupyter-widgets/controls",
          "model_name": "DescriptionStyleModel",
          "model_module_version": "1.5.0",
          "state": {
            "_model_module": "@jupyter-widgets/controls",
            "_model_module_version": "1.5.0",
            "_model_name": "DescriptionStyleModel",
            "_view_count": null,
            "_view_module": "@jupyter-widgets/base",
            "_view_module_version": "1.2.0",
            "_view_name": "StyleView",
            "description_width": ""
          }
        },
        "f1538f23aa12426faba79efd2d5e6962": {
          "model_module": "@jupyter-widgets/controls",
          "model_name": "HBoxModel",
          "model_module_version": "1.5.0",
          "state": {
            "_dom_classes": [],
            "_model_module": "@jupyter-widgets/controls",
            "_model_module_version": "1.5.0",
            "_model_name": "HBoxModel",
            "_view_count": null,
            "_view_module": "@jupyter-widgets/controls",
            "_view_module_version": "1.5.0",
            "_view_name": "HBoxView",
            "box_style": "",
            "children": [
              "IPY_MODEL_fe7edafde2544f7f93a2da5753656965",
              "IPY_MODEL_130a85da424c44779564394e824893ce",
              "IPY_MODEL_241ccc608c464be59a1999d12929b32c"
            ],
            "layout": "IPY_MODEL_b0a428c625a043638052eec12c45079d"
          }
        },
        "fe7edafde2544f7f93a2da5753656965": {
          "model_module": "@jupyter-widgets/controls",
          "model_name": "HTMLModel",
          "model_module_version": "1.5.0",
          "state": {
            "_dom_classes": [],
            "_model_module": "@jupyter-widgets/controls",
            "_model_module_version": "1.5.0",
            "_model_name": "HTMLModel",
            "_view_count": null,
            "_view_module": "@jupyter-widgets/controls",
            "_view_module_version": "1.5.0",
            "_view_name": "HTMLView",
            "description": "",
            "description_tooltip": null,
            "layout": "IPY_MODEL_a485acd7696f4dd98930ba949cade921",
            "placeholder": "​",
            "style": "IPY_MODEL_ed633cd041df434bb65da19e50ab27d1",
            "value": "Depth=4, working on node 6: 100%"
          }
        },
        "130a85da424c44779564394e824893ce": {
          "model_module": "@jupyter-widgets/controls",
          "model_name": "FloatProgressModel",
          "model_module_version": "1.5.0",
          "state": {
            "_dom_classes": [],
            "_model_module": "@jupyter-widgets/controls",
            "_model_module_version": "1.5.0",
            "_model_name": "FloatProgressModel",
            "_view_count": null,
            "_view_module": "@jupyter-widgets/controls",
            "_view_module_version": "1.5.0",
            "_view_name": "ProgressView",
            "bar_style": "success",
            "description": "",
            "description_tooltip": null,
            "layout": "IPY_MODEL_a2144747a72644f3a2d3b7a27766a5ed",
            "max": 7,
            "min": 0,
            "orientation": "horizontal",
            "style": "IPY_MODEL_4b83a58a7b384fad99967dc5f12184f3",
            "value": 7
          }
        },
        "241ccc608c464be59a1999d12929b32c": {
          "model_module": "@jupyter-widgets/controls",
          "model_name": "HTMLModel",
          "model_module_version": "1.5.0",
          "state": {
            "_dom_classes": [],
            "_model_module": "@jupyter-widgets/controls",
            "_model_module_version": "1.5.0",
            "_model_name": "HTMLModel",
            "_view_count": null,
            "_view_module": "@jupyter-widgets/controls",
            "_view_module_version": "1.5.0",
            "_view_name": "HTMLView",
            "description": "",
            "description_tooltip": null,
            "layout": "IPY_MODEL_6d8fadbc258944a28995af36e0495e6a",
            "placeholder": "​",
            "style": "IPY_MODEL_cd98b94f49454f4db896cf99244352d4",
            "value": " 7/7 [00:00&lt;00:00, 93.52it/s]"
          }
        },
        "b0a428c625a043638052eec12c45079d": {
          "model_module": "@jupyter-widgets/base",
          "model_name": "LayoutModel",
          "model_module_version": "1.2.0",
          "state": {
            "_model_module": "@jupyter-widgets/base",
            "_model_module_version": "1.2.0",
            "_model_name": "LayoutModel",
            "_view_count": null,
            "_view_module": "@jupyter-widgets/base",
            "_view_module_version": "1.2.0",
            "_view_name": "LayoutView",
            "align_content": null,
            "align_items": null,
            "align_self": null,
            "border": null,
            "bottom": null,
            "display": null,
            "flex": null,
            "flex_flow": null,
            "grid_area": null,
            "grid_auto_columns": null,
            "grid_auto_flow": null,
            "grid_auto_rows": null,
            "grid_column": null,
            "grid_gap": null,
            "grid_row": null,
            "grid_template_areas": null,
            "grid_template_columns": null,
            "grid_template_rows": null,
            "height": null,
            "justify_content": null,
            "justify_items": null,
            "left": null,
            "margin": null,
            "max_height": null,
            "max_width": null,
            "min_height": null,
            "min_width": null,
            "object_fit": null,
            "object_position": null,
            "order": null,
            "overflow": null,
            "overflow_x": null,
            "overflow_y": null,
            "padding": null,
            "right": null,
            "top": null,
            "visibility": null,
            "width": null
          }
        },
        "a485acd7696f4dd98930ba949cade921": {
          "model_module": "@jupyter-widgets/base",
          "model_name": "LayoutModel",
          "model_module_version": "1.2.0",
          "state": {
            "_model_module": "@jupyter-widgets/base",
            "_model_module_version": "1.2.0",
            "_model_name": "LayoutModel",
            "_view_count": null,
            "_view_module": "@jupyter-widgets/base",
            "_view_module_version": "1.2.0",
            "_view_name": "LayoutView",
            "align_content": null,
            "align_items": null,
            "align_self": null,
            "border": null,
            "bottom": null,
            "display": null,
            "flex": null,
            "flex_flow": null,
            "grid_area": null,
            "grid_auto_columns": null,
            "grid_auto_flow": null,
            "grid_auto_rows": null,
            "grid_column": null,
            "grid_gap": null,
            "grid_row": null,
            "grid_template_areas": null,
            "grid_template_columns": null,
            "grid_template_rows": null,
            "height": null,
            "justify_content": null,
            "justify_items": null,
            "left": null,
            "margin": null,
            "max_height": null,
            "max_width": null,
            "min_height": null,
            "min_width": null,
            "object_fit": null,
            "object_position": null,
            "order": null,
            "overflow": null,
            "overflow_x": null,
            "overflow_y": null,
            "padding": null,
            "right": null,
            "top": null,
            "visibility": null,
            "width": null
          }
        },
        "ed633cd041df434bb65da19e50ab27d1": {
          "model_module": "@jupyter-widgets/controls",
          "model_name": "DescriptionStyleModel",
          "model_module_version": "1.5.0",
          "state": {
            "_model_module": "@jupyter-widgets/controls",
            "_model_module_version": "1.5.0",
            "_model_name": "DescriptionStyleModel",
            "_view_count": null,
            "_view_module": "@jupyter-widgets/base",
            "_view_module_version": "1.2.0",
            "_view_name": "StyleView",
            "description_width": ""
          }
        },
        "a2144747a72644f3a2d3b7a27766a5ed": {
          "model_module": "@jupyter-widgets/base",
          "model_name": "LayoutModel",
          "model_module_version": "1.2.0",
          "state": {
            "_model_module": "@jupyter-widgets/base",
            "_model_module_version": "1.2.0",
            "_model_name": "LayoutModel",
            "_view_count": null,
            "_view_module": "@jupyter-widgets/base",
            "_view_module_version": "1.2.0",
            "_view_name": "LayoutView",
            "align_content": null,
            "align_items": null,
            "align_self": null,
            "border": null,
            "bottom": null,
            "display": null,
            "flex": null,
            "flex_flow": null,
            "grid_area": null,
            "grid_auto_columns": null,
            "grid_auto_flow": null,
            "grid_auto_rows": null,
            "grid_column": null,
            "grid_gap": null,
            "grid_row": null,
            "grid_template_areas": null,
            "grid_template_columns": null,
            "grid_template_rows": null,
            "height": null,
            "justify_content": null,
            "justify_items": null,
            "left": null,
            "margin": null,
            "max_height": null,
            "max_width": null,
            "min_height": null,
            "min_width": null,
            "object_fit": null,
            "object_position": null,
            "order": null,
            "overflow": null,
            "overflow_x": null,
            "overflow_y": null,
            "padding": null,
            "right": null,
            "top": null,
            "visibility": null,
            "width": null
          }
        },
        "4b83a58a7b384fad99967dc5f12184f3": {
          "model_module": "@jupyter-widgets/controls",
          "model_name": "ProgressStyleModel",
          "model_module_version": "1.5.0",
          "state": {
            "_model_module": "@jupyter-widgets/controls",
            "_model_module_version": "1.5.0",
            "_model_name": "ProgressStyleModel",
            "_view_count": null,
            "_view_module": "@jupyter-widgets/base",
            "_view_module_version": "1.2.0",
            "_view_name": "StyleView",
            "bar_color": null,
            "description_width": ""
          }
        },
        "6d8fadbc258944a28995af36e0495e6a": {
          "model_module": "@jupyter-widgets/base",
          "model_name": "LayoutModel",
          "model_module_version": "1.2.0",
          "state": {
            "_model_module": "@jupyter-widgets/base",
            "_model_module_version": "1.2.0",
            "_model_name": "LayoutModel",
            "_view_count": null,
            "_view_module": "@jupyter-widgets/base",
            "_view_module_version": "1.2.0",
            "_view_name": "LayoutView",
            "align_content": null,
            "align_items": null,
            "align_self": null,
            "border": null,
            "bottom": null,
            "display": null,
            "flex": null,
            "flex_flow": null,
            "grid_area": null,
            "grid_auto_columns": null,
            "grid_auto_flow": null,
            "grid_auto_rows": null,
            "grid_column": null,
            "grid_gap": null,
            "grid_row": null,
            "grid_template_areas": null,
            "grid_template_columns": null,
            "grid_template_rows": null,
            "height": null,
            "justify_content": null,
            "justify_items": null,
            "left": null,
            "margin": null,
            "max_height": null,
            "max_width": null,
            "min_height": null,
            "min_width": null,
            "object_fit": null,
            "object_position": null,
            "order": null,
            "overflow": null,
            "overflow_x": null,
            "overflow_y": null,
            "padding": null,
            "right": null,
            "top": null,
            "visibility": null,
            "width": null
          }
        },
        "cd98b94f49454f4db896cf99244352d4": {
          "model_module": "@jupyter-widgets/controls",
          "model_name": "DescriptionStyleModel",
          "model_module_version": "1.5.0",
          "state": {
            "_model_module": "@jupyter-widgets/controls",
            "_model_module_version": "1.5.0",
            "_model_name": "DescriptionStyleModel",
            "_view_count": null,
            "_view_module": "@jupyter-widgets/base",
            "_view_module_version": "1.2.0",
            "_view_name": "StyleView",
            "description_width": ""
          }
        }
      }
    }
  },
  "nbformat": 4,
  "nbformat_minor": 0
}
