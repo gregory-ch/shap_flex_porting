{
  "cells": [
    {
      "cell_type": "markdown",
      "metadata": {
        "id": "view-in-github",
        "colab_type": "text"
      },
      "source": [
        "<a href=\"https://colab.research.google.com/github/gregory-ch/shap_flex_porting/blob/main/shap_joint.ipynb\" target=\"_parent\"><img src=\"https://colab.research.google.com/assets/colab-badge.svg\" alt=\"Open In Colab\"/></a>"
      ]
    },
    {
      "cell_type": "markdown",
      "source": [
        "###1. Libraries installation"
      ],
      "metadata": {
        "id": "YkXHIq4uKq8t"
      }
    },
    {
      "cell_type": "code",
      "source": [
        "!pip install catboost\n",
        "!pip install shap\n",
        "!pip install igraph\n",
        "!pip install shapflex\n",
        "!pip install causal-learn"
      ],
      "metadata": {
        "colab": {
          "base_uri": "https://localhost:8080/"
        },
        "id": "6f5ExEYEGRSJ",
        "outputId": "35941bcd-7b38-46e9-e3c3-7a8ed65749c3"
      },
      "execution_count": null,
      "outputs": [
        {
          "output_type": "stream",
          "name": "stdout",
          "text": [
            "Looking in indexes: https://pypi.org/simple, https://us-python.pkg.dev/colab-wheels/public/simple/\n",
            "Collecting catboost\n",
            "  Downloading catboost-1.0.6-cp37-none-manylinux1_x86_64.whl (76.6 MB)\n",
            "\u001b[K     |████████████████████████████████| 76.6 MB 1.1 MB/s \n",
            "\u001b[?25hRequirement already satisfied: six in /usr/local/lib/python3.7/dist-packages (from catboost) (1.15.0)\n",
            "Requirement already satisfied: pandas>=0.24.0 in /usr/local/lib/python3.7/dist-packages (from catboost) (1.3.5)\n",
            "Requirement already satisfied: numpy>=1.16.0 in /usr/local/lib/python3.7/dist-packages (from catboost) (1.21.6)\n",
            "Requirement already satisfied: scipy in /usr/local/lib/python3.7/dist-packages (from catboost) (1.4.1)\n",
            "Requirement already satisfied: graphviz in /usr/local/lib/python3.7/dist-packages (from catboost) (0.10.1)\n",
            "Requirement already satisfied: matplotlib in /usr/local/lib/python3.7/dist-packages (from catboost) (3.2.2)\n",
            "Requirement already satisfied: plotly in /usr/local/lib/python3.7/dist-packages (from catboost) (5.5.0)\n",
            "Requirement already satisfied: python-dateutil>=2.7.3 in /usr/local/lib/python3.7/dist-packages (from pandas>=0.24.0->catboost) (2.8.2)\n",
            "Requirement already satisfied: pytz>=2017.3 in /usr/local/lib/python3.7/dist-packages (from pandas>=0.24.0->catboost) (2022.1)\n",
            "Requirement already satisfied: kiwisolver>=1.0.1 in /usr/local/lib/python3.7/dist-packages (from matplotlib->catboost) (1.4.2)\n",
            "Requirement already satisfied: cycler>=0.10 in /usr/local/lib/python3.7/dist-packages (from matplotlib->catboost) (0.11.0)\n",
            "Requirement already satisfied: pyparsing!=2.0.4,!=2.1.2,!=2.1.6,>=2.0.1 in /usr/local/lib/python3.7/dist-packages (from matplotlib->catboost) (3.0.9)\n",
            "Requirement already satisfied: typing-extensions in /usr/local/lib/python3.7/dist-packages (from kiwisolver>=1.0.1->matplotlib->catboost) (4.2.0)\n",
            "Requirement already satisfied: tenacity>=6.2.0 in /usr/local/lib/python3.7/dist-packages (from plotly->catboost) (8.0.1)\n",
            "Installing collected packages: catboost\n",
            "Successfully installed catboost-1.0.6\n",
            "Looking in indexes: https://pypi.org/simple, https://us-python.pkg.dev/colab-wheels/public/simple/\n",
            "Collecting shap\n",
            "  Downloading shap-0.40.0-cp37-cp37m-manylinux2010_x86_64.whl (564 kB)\n",
            "\u001b[K     |████████████████████████████████| 564 kB 7.9 MB/s \n",
            "\u001b[?25hRequirement already satisfied: numpy in /usr/local/lib/python3.7/dist-packages (from shap) (1.21.6)\n",
            "Requirement already satisfied: scikit-learn in /usr/local/lib/python3.7/dist-packages (from shap) (1.0.2)\n",
            "Requirement already satisfied: cloudpickle in /usr/local/lib/python3.7/dist-packages (from shap) (1.3.0)\n",
            "Requirement already satisfied: tqdm>4.25.0 in /usr/local/lib/python3.7/dist-packages (from shap) (4.64.0)\n",
            "Collecting slicer==0.0.7\n",
            "  Downloading slicer-0.0.7-py3-none-any.whl (14 kB)\n",
            "Requirement already satisfied: numba in /usr/local/lib/python3.7/dist-packages (from shap) (0.51.2)\n",
            "Requirement already satisfied: pandas in /usr/local/lib/python3.7/dist-packages (from shap) (1.3.5)\n",
            "Requirement already satisfied: packaging>20.9 in /usr/local/lib/python3.7/dist-packages (from shap) (21.3)\n",
            "Requirement already satisfied: scipy in /usr/local/lib/python3.7/dist-packages (from shap) (1.4.1)\n",
            "Requirement already satisfied: pyparsing!=3.0.5,>=2.0.2 in /usr/local/lib/python3.7/dist-packages (from packaging>20.9->shap) (3.0.9)\n",
            "Requirement already satisfied: llvmlite<0.35,>=0.34.0.dev0 in /usr/local/lib/python3.7/dist-packages (from numba->shap) (0.34.0)\n",
            "Requirement already satisfied: setuptools in /usr/local/lib/python3.7/dist-packages (from numba->shap) (57.4.0)\n",
            "Requirement already satisfied: python-dateutil>=2.7.3 in /usr/local/lib/python3.7/dist-packages (from pandas->shap) (2.8.2)\n",
            "Requirement already satisfied: pytz>=2017.3 in /usr/local/lib/python3.7/dist-packages (from pandas->shap) (2022.1)\n",
            "Requirement already satisfied: six>=1.5 in /usr/local/lib/python3.7/dist-packages (from python-dateutil>=2.7.3->pandas->shap) (1.15.0)\n",
            "Requirement already satisfied: threadpoolctl>=2.0.0 in /usr/local/lib/python3.7/dist-packages (from scikit-learn->shap) (3.1.0)\n",
            "Requirement already satisfied: joblib>=0.11 in /usr/local/lib/python3.7/dist-packages (from scikit-learn->shap) (1.1.0)\n",
            "Installing collected packages: slicer, shap\n",
            "Successfully installed shap-0.40.0 slicer-0.0.7\n",
            "Looking in indexes: https://pypi.org/simple, https://us-python.pkg.dev/colab-wheels/public/simple/\n",
            "Collecting igraph\n",
            "  Downloading igraph-0.9.10-cp37-cp37m-manylinux_2_17_x86_64.manylinux2014_x86_64.whl (3.1 MB)\n",
            "\u001b[K     |████████████████████████████████| 3.1 MB 7.5 MB/s \n",
            "\u001b[?25hCollecting texttable>=1.6.2\n",
            "  Downloading texttable-1.6.4-py2.py3-none-any.whl (10 kB)\n",
            "Installing collected packages: texttable, igraph\n",
            "Successfully installed igraph-0.9.10 texttable-1.6.4\n",
            "Looking in indexes: https://pypi.org/simple, https://us-python.pkg.dev/colab-wheels/public/simple/\n",
            "Requirement already satisfied: shapflex in /usr/local/lib/python3.7/dist-packages (0.0.2)\n",
            "Looking in indexes: https://pypi.org/simple, https://us-python.pkg.dev/colab-wheels/public/simple/\n",
            "Collecting causal-learn\n",
            "  Downloading causal_learn-0.1.2.4-py3-none-any.whl (169 kB)\n",
            "\u001b[K     |████████████████████████████████| 169 kB 10.1 MB/s \n",
            "\u001b[?25hRequirement already satisfied: scikit-learn in /usr/local/lib/python3.7/dist-packages (from causal-learn) (1.0.2)\n",
            "Requirement already satisfied: graphviz in /usr/local/lib/python3.7/dist-packages (from causal-learn) (0.10.1)\n",
            "Requirement already satisfied: tqdm in /usr/local/lib/python3.7/dist-packages (from causal-learn) (4.64.0)\n",
            "Requirement already satisfied: pydot in /usr/local/lib/python3.7/dist-packages (from causal-learn) (1.3.0)\n",
            "Requirement already satisfied: statsmodels in /usr/local/lib/python3.7/dist-packages (from causal-learn) (0.10.2)\n",
            "Requirement already satisfied: networkx in /usr/local/lib/python3.7/dist-packages (from causal-learn) (2.6.3)\n",
            "Requirement already satisfied: matplotlib in /usr/local/lib/python3.7/dist-packages (from causal-learn) (3.2.2)\n",
            "Requirement already satisfied: scipy in /usr/local/lib/python3.7/dist-packages (from causal-learn) (1.4.1)\n",
            "Requirement already satisfied: numpy in /usr/local/lib/python3.7/dist-packages (from causal-learn) (1.21.6)\n",
            "Requirement already satisfied: pandas in /usr/local/lib/python3.7/dist-packages (from causal-learn) (1.3.5)\n",
            "Requirement already satisfied: pyparsing!=2.0.4,!=2.1.2,!=2.1.6,>=2.0.1 in /usr/local/lib/python3.7/dist-packages (from matplotlib->causal-learn) (3.0.9)\n",
            "Requirement already satisfied: kiwisolver>=1.0.1 in /usr/local/lib/python3.7/dist-packages (from matplotlib->causal-learn) (1.4.2)\n",
            "Requirement already satisfied: cycler>=0.10 in /usr/local/lib/python3.7/dist-packages (from matplotlib->causal-learn) (0.11.0)\n",
            "Requirement already satisfied: python-dateutil>=2.1 in /usr/local/lib/python3.7/dist-packages (from matplotlib->causal-learn) (2.8.2)\n",
            "Requirement already satisfied: typing-extensions in /usr/local/lib/python3.7/dist-packages (from kiwisolver>=1.0.1->matplotlib->causal-learn) (4.2.0)\n",
            "Requirement already satisfied: six>=1.5 in /usr/local/lib/python3.7/dist-packages (from python-dateutil>=2.1->matplotlib->causal-learn) (1.15.0)\n",
            "Requirement already satisfied: pytz>=2017.3 in /usr/local/lib/python3.7/dist-packages (from pandas->causal-learn) (2022.1)\n",
            "Requirement already satisfied: joblib>=0.11 in /usr/local/lib/python3.7/dist-packages (from scikit-learn->causal-learn) (1.1.0)\n",
            "Requirement already satisfied: threadpoolctl>=2.0.0 in /usr/local/lib/python3.7/dist-packages (from scikit-learn->causal-learn) (3.1.0)\n",
            "Requirement already satisfied: patsy>=0.4.0 in /usr/local/lib/python3.7/dist-packages (from statsmodels->causal-learn) (0.5.2)\n",
            "Installing collected packages: causal-learn\n",
            "Successfully installed causal-learn-0.1.2.4\n"
          ]
        }
      ]
    },
    {
      "cell_type": "markdown",
      "source": [
        "###2. Data downloading\n",
        "\n",
        " source: [Data](https://github.com/ShawhinT/YouTube-Blog/blob/main/causal_discovery/df_causal_discovery.p), [Tutorial](https://towardsdatascience.com/causal-discovery-6858f9af6dcb)"
      ],
      "metadata": {
        "id": "ws_xAE1eK04f"
      }
    },
    {
      "cell_type": "code",
      "execution_count": null,
      "metadata": {
        "id": "rOQv0qcIFtIP"
      },
      "outputs": [],
      "source": [
        "import pickle\n",
        "import matplotlib.pyplot as plt\n",
        "df = pickle.load( open( \"df_causal_discovery.p\", \"rb\") )"
      ]
    },
    {
      "cell_type": "markdown",
      "source": [
        "### 3. Setting a model to explain"
      ],
      "metadata": {
        "id": "J0DhX0KyLTfD"
      }
    },
    {
      "cell_type": "code",
      "source": [
        "import pandas as pd\n",
        "import numpy as np\n",
        "from catboost import CatBoostClassifier\n",
        "data_to_explain = df.copy()\n",
        "outcome_name = 'greaterThan50k'\n",
        "outcome_col = pd.Series(data_to_explain.columns)[data_to_explain.columns==outcome_name].index[0]\n",
        "X, y = data_to_explain.drop(outcome_name, axis=1), data_to_explain[outcome_name].values\n",
        "model = CatBoostClassifier(iterations=1000)\n",
        "model.fit(X, y, verbose=100)\n",
        "def predict_function(model, data_to_explain):\n",
        "  return pd.DataFrame(model.predict_proba(data_to_explain)[:, [0]])"
      ],
      "metadata": {
        "colab": {
          "base_uri": "https://localhost:8080/"
        },
        "id": "avVoJKv7GqK7",
        "outputId": "b97246f6-d0bc-4504-f13e-d3b0b256b024"
      },
      "execution_count": null,
      "outputs": [
        {
          "output_type": "stream",
          "name": "stdout",
          "text": [
            "Learning rate set to 0.043497\n",
            "0:\tlearn: 0.6623482\ttotal: 55.7ms\tremaining: 55.7s\n",
            "100:\tlearn: 0.4141735\ttotal: 1.04s\tremaining: 9.26s\n",
            "200:\tlearn: 0.4106785\ttotal: 1.78s\tremaining: 7.09s\n",
            "300:\tlearn: 0.4079625\ttotal: 3s\tremaining: 6.96s\n",
            "400:\tlearn: 0.4053425\ttotal: 4.92s\tremaining: 7.36s\n",
            "500:\tlearn: 0.4030620\ttotal: 6.55s\tremaining: 6.52s\n",
            "600:\tlearn: 0.4011586\ttotal: 9.21s\tremaining: 6.12s\n",
            "700:\tlearn: 0.3995024\ttotal: 12.5s\tremaining: 5.32s\n",
            "800:\tlearn: 0.3980119\ttotal: 15.8s\tremaining: 3.92s\n",
            "900:\tlearn: 0.3966029\ttotal: 18.7s\tremaining: 2.05s\n",
            "999:\tlearn: 0.3952973\ttotal: 21.3s\tremaining: 0us\n"
          ]
        }
      ]
    },
    {
      "cell_type": "markdown",
      "source": [
        "###4. Non-causal case: symmetric shapley values, no prior knowledge"
      ],
      "metadata": {
        "id": "rkjPW4fiLbD1"
      }
    },
    {
      "cell_type": "code",
      "source": [
        "from shapflex.shapflex import shapFlex_plus\n",
        "\n",
        "explain, reference = data_to_explain.iloc[:300, :data_to_explain.shape[1]-1], data_to_explain.iloc[:, :data_to_explain.shape[1]-1]\n",
        "exmpl_of_test = shapFlex_plus(explain, model, predict_function, target_features=pd.Series([\n",
        "                                                                                         \"age\", \"inRelationship\", \n",
        "                                                                                         \"hours-per-week\", \"hasGraduateDegree\",\n",
        "                                                                                         \"isFemale\", \"isWhite\"])\n",
        ")\n",
        "result = exmpl_of_test.forward()"
      ],
      "metadata": {
        "id": "fK3URhheGuAk"
      },
      "execution_count": null,
      "outputs": []
    },
    {
      "cell_type": "markdown",
      "source": [
        "Assembling a causal data to a format with which shap's beeswarm is able to deal"
      ],
      "metadata": {
        "id": "ua4MPBJ9NcEG"
      }
    },
    {
      "cell_type": "code",
      "source": [
        "from shap._explanation import Explanation\n",
        "values = pd.DataFrame(result['shap_effect'].values.reshape(-1, 6), columns = result['feature_name'].unique()).values\n",
        "base_values = np.array([result['shap_effect intercept'][0] for i in range(explain.shape[0])])\n",
        "data = explain.values\n",
        "shap_values_shapflex = Explanation(values, base_values=base_values, data=data, feature_names=result.loc[:5, 'feature_name'].values)"
      ],
      "metadata": {
        "id": "Lo9WdEr6G5tr"
      },
      "execution_count": null,
      "outputs": []
    },
    {
      "cell_type": "code",
      "source": [
        "import shap\n",
        "shap.plots.beeswarm(shap_values=shap_values_shapflex )"
      ],
      "metadata": {
        "colab": {
          "base_uri": "https://localhost:8080/",
          "height": 281
        },
        "id": "BWhhICMYHArF",
        "outputId": "d9a754f2-9a1a-480f-e480-160cd0d2b3dc"
      },
      "execution_count": null,
      "outputs": [
        {
          "output_type": "display_data",
          "data": {
            "text/plain": [
              "<Figure size 576x280.8 with 2 Axes>"
            ],
            "image/png": "[encoded data removed]"
          },
          "metadata": {
            "needs_background": "light"
          }
        }
      ]
    },
    {
      "cell_type": "markdown",
      "source": [
        "###5. Building a causal graph, FCI algorithm.\n",
        "\n",
        "  step 1: Use FCI without prior knowledge"
      ],
      "metadata": {
        "id": "8vkD3iAULkZs"
      }
    },
    {
      "cell_type": "code",
      "source": [
        "from causallearn.search.ConstraintBased.FCI import fci\n",
        "G = fci(df)"
      ],
      "metadata": {
        "colab": {
          "base_uri": "https://localhost:8080/",
          "height": 153,
          "referenced_widgets": [
            "d458bfcb121b476a97805532bd3d8e92",
            "5c26ba5b26bb46e6b5875bd52dac979c",
            "287797c9aa214f518cbb71f7bb463e2e",
            "c9ae52cabdba4fdd90d9e106f19e4515",
            "c9cb088371ac42608cf274357c48f4f9",
            "46b4df6cbfcf4b10971e185c5ad7c8e8",
            "72fe11163b5640ab91f68791218acf30",
            "d0cba6b6fc964d52b63f182475d7ef26",
            "9dae77908a794665b6ec58ec4df086ee",
            "a9df123078b64c099d3e23774053dc2c",
            "86c7000018f246758f93b9cb229f4613"
          ]
        },
        "id": "oLsPncr0HEfm",
        "outputId": "697d0766-4f77-439c-951d-9958ce908fc2"
      },
      "execution_count": null,
      "outputs": [
        {
          "output_type": "stream",
          "name": "stdout",
          "text": [
            "Starting Fast Adjacency Search.\n"
          ]
        },
        {
          "output_type": "display_data",
          "data": {
            "text/plain": [
              "  0%|          | 0/7 [00:00<?, ?it/s]"
            ],
            "application/vnd.jupyter.widget-view+json": {
              "version_major": 2,
              "version_minor": 0,
              "model_id": "d458bfcb121b476a97805532bd3d8e92"
            }
          },
          "metadata": {}
        },
        {
          "output_type": "stream",
          "name": "stdout",
          "text": [
            "Finishing Fast Adjacency Search.\n",
            "X1 --> X4\n",
            "X1 --> X7\n",
            "X2 --> X4\n",
            "X7 --> X5\n"
          ]
        }
      ]
    },
    {
      "cell_type": "markdown",
      "source": [
        " step 2: turn off some nodes"
      ],
      "metadata": {
        "id": "_XRmNBu4L7jc"
      }
    },
    {
      "cell_type": "code",
      "source": [
        "from causallearn.utils.PCUtils.BackgroundKnowledge import BackgroundKnowledge\n",
        "nodes = G[0].get_nodes()\n",
        "bc = BackgroundKnowledge() \\\n",
        "            .add_forbidden_by_node(nodes[2], nodes[0]) \\\n",
        "            .add_forbidden_by_node(nodes[1], nodes[2]) \\\n",
        "            .add_forbidden_by_node(nodes[4], nodes[5]) \\\n",
        "            .add_forbidden_by_node(nodes[5], nodes[4]) \\\n",
        "            .add_forbidden_by_node(nodes[5], nodes[0]) \\\n",
        "            .add_forbidden_by_node(nodes[0], nodes[5]) \\\n",
        "            .add_forbidden_by_node(nodes[3], nodes[4]) \\\n",
        "            .add_forbidden_by_node(nodes[6], nodes[4]) \\\n",
        "            .add_forbidden_by_node(nodes[3], nodes[5]) \\\n",
        "            .add_forbidden_by_node(nodes[2], nodes[4]) \\\n",
        "            .add_forbidden_by_node(nodes[1], nodes[4]) \\\n",
        "            .add_required_by_node(nodes[1], nodes[5])\n",
        "\n",
        "G2 = fci(df, background_knowledge=bc)"
      ],
      "metadata": {
        "colab": {
          "base_uri": "https://localhost:8080/",
          "height": 552,
          "referenced_widgets": [
            "2981bf40cd1f47e2802e782f335b87d1",
            "3d166bf4edde4d5793c8fa8d66d827f2",
            "d60b6cd33b284c8f8dfcaa6e26ed4ccb",
            "55186068840a4dd2a40a69491b46dd8c",
            "75752f89e4ab4b97b5d72e488c3d50c7",
            "a586a6a29dd645ea8c74c7c72f472730",
            "a0608ed4bdca4aaf8a40d77ed44bf521",
            "f1e4a35adae241808d2a7e1263b8a477",
            "be5e459f72a94f49b967a82bcaa3ef3d",
            "28449d53dbcc41869bc68ed10e66bdad",
            "84052ce32b6543d7b8390e4110b20f24"
          ]
        },
        "id": "vbjMZLrzHMU9",
        "outputId": "c68c5a17-5663-4f8e-93b6-cfe7856e70a5"
      },
      "execution_count": null,
      "outputs": [
        {
          "output_type": "stream",
          "name": "stdout",
          "text": [
            "Starting Fast Adjacency Search.\n"
          ]
        },
        {
          "output_type": "display_data",
          "data": {
            "text/plain": [
              "  0%|          | 0/7 [00:00<?, ?it/s]"
            ],
            "application/vnd.jupyter.widget-view+json": {
              "version_major": 2,
              "version_minor": 0,
              "model_id": "2981bf40cd1f47e2802e782f335b87d1"
            }
          },
          "metadata": {}
        },
        {
          "output_type": "stream",
          "name": "stdout",
          "text": [
            "X1 --- X6 because it was forbidden by background background_knowledge.\n",
            "X5 --- X6 because it was forbidden by background background_knowledge.\n",
            "Finishing Fast Adjacency Search.\n",
            "Starting BK Orientation.\n",
            "Orienting edge (Knowledge): X1 --> X3\n",
            "Orienting edge (Knowledge): X3 --> X2\n",
            "Orienting edge (Knowledge): X5 --> X2\n",
            "Orienting edge (Knowledge): X2 --> X6\n",
            "Orienting edge (Knowledge): X5 --> X3\n",
            "Orienting edge (Knowledge): X5 --> X4\n",
            "Orienting edge (Knowledge): X6 --> X4\n",
            "Orienting edge (Knowledge): X5 --> X7\n",
            "Finishing BK Orientation.\n",
            "Starting BK Orientation.\n",
            "Orienting edge (Knowledge): X1 --> X3\n",
            "Orienting edge (Knowledge): X3 --> X2\n",
            "Orienting edge (Knowledge): X5 --> X2\n",
            "Orienting edge (Knowledge): X2 --> X6\n",
            "Orienting edge (Knowledge): X5 --> X3\n",
            "Orienting edge (Knowledge): X5 --> X4\n",
            "Orienting edge (Knowledge): X6 --> X4\n",
            "Orienting edge (Knowledge): X5 --> X7\n",
            "Finishing BK Orientation.\n",
            "X3 --> X2\n",
            "X2 --> X4\n",
            "X2 --> X6\n",
            "X6 --> X4\n",
            "X4 --> X7\n"
          ]
        }
      ]
    },
    {
      "cell_type": "markdown",
      "source": [
        "###6. Assembling a causal dataframe from a causal graph"
      ],
      "metadata": {
        "id": "EBN0sbfzMDXW"
      }
    },
    {
      "cell_type": "code",
      "source": [
        "nodes = []\n",
        "for edge in G2[1]:\n",
        "  nodes.append([edge.get_node1().get_name(), edge.get_node2().get_name()])\n",
        "\n",
        "names = {x:y for x, y in zip([\n",
        "                              'X' + str(i) for i in range(1, 8)\n",
        "], df.columns.values\n",
        ")}\n",
        "\n",
        "causal = pd.DataFrame()\n",
        "causal['cause'] = pd.DataFrame(nodes)[0].apply(lambda x: names[x])\n",
        "causal['effect'] = pd.DataFrame(nodes)[1].apply(lambda x: names[x])"
      ],
      "metadata": {
        "id": "fdSzImPxHS2x"
      },
      "execution_count": null,
      "outputs": []
    },
    {
      "cell_type": "markdown",
      "source": [
        "We don't want to have an objective node in our graph. Also, though we turned off an edge 'hours-per-week' $\\rightarrow$ 'isFemale' it somehow appeared in a graph. So, we have to delete it."
      ],
      "metadata": {
        "id": "A0zsPjsXMcro"
      }
    },
    {
      "cell_type": "code",
      "source": [
        "causal_without_objective = causal.where(causal!='greaterThan50k').dropna(axis=0)\n",
        "causal_without_objective = causal_without_objective.drop(6).reset_index(drop=True)"
      ],
      "metadata": {
        "id": "7nlFd3wLHafP"
      },
      "execution_count": null,
      "outputs": []
    },
    {
      "cell_type": "markdown",
      "source": [
        "###7. Running a causal case"
      ],
      "metadata": {
        "id": "zNc6bLSBNUUx"
      }
    },
    {
      "cell_type": "code",
      "source": [
        "exmpl_of_test = shapFlex_plus(explain, model, predict_function, target_features=pd.Series(\n",
        "    ['age', 'hours-per-week', 'hasGraduateDegree', 'inRelationship',\n",
        "       'isWhite', 'isFemale']), causal=causal_without_objective, causal_weights=[1. for i in range(causal_without_objective.shape[0])])\n",
        "result = exmpl_of_test.forward()"
      ],
      "metadata": {
        "colab": {
          "base_uri": "https://localhost:8080/"
        },
        "id": "Ziq3ClE7Hflo",
        "outputId": "83c7480b-8ed8-4857-e9b1-d6d7e08087c1"
      },
      "execution_count": null,
      "outputs": [
        {
          "output_type": "stream",
          "name": "stderr",
          "text": [
            "\n",
            "A value is trying to be set on a copy of a slice from a DataFrame.\n",
            "Try using .loc[row_indexer,col_indexer] = value instead\n",
            "\n",
            "See the caveats in the documentation: https://pandas.pydata.org/pandas-docs/stable/user_guide/indexing.html#returning-a-view-versus-a-copy\n",
            "\n",
            "A value is trying to be set on a copy of a slice from a DataFrame.\n",
            "Try using .loc[row_indexer,col_indexer] = value instead\n",
            "\n",
            "See the caveats in the documentation: https://pandas.pydata.org/pandas-docs/stable/user_guide/indexing.html#returning-a-view-versus-a-copy\n",
            "\n",
            "A value is trying to be set on a copy of a slice from a DataFrame.\n",
            "Try using .loc[row_indexer,col_indexer] = value instead\n",
            "\n",
            "See the caveats in the documentation: https://pandas.pydata.org/pandas-docs/stable/user_guide/indexing.html#returning-a-view-versus-a-copy\n",
            "\n",
            "A value is trying to be set on a copy of a slice from a DataFrame.\n",
            "Try using .loc[row_indexer,col_indexer] = value instead\n",
            "\n",
            "See the caveats in the documentation: https://pandas.pydata.org/pandas-docs/stable/user_guide/indexing.html#returning-a-view-versus-a-copy\n",
            "Dropping of nuisance columns in DataFrame reductions (with 'numeric_only=None') is deprecated; in a future version this will raise TypeError.  Select only valid columns before calling the reduction.\n"
          ]
        }
      ]
    },
    {
      "cell_type": "code",
      "source": [
        "values = pd.DataFrame(result['shap_effect'].values.reshape(-1, 6), columns = result['feature_name'].unique()).values\n",
        "base_values = np.array([result['shap_effect intercept'][0] for i in range(explain.shape[0])])\n",
        "data = explain.values\n",
        "shap_values_shapflex = Explanation(values, base_values=base_values, data=data, feature_names=result.loc[:5, 'feature_name'].values)"
      ],
      "metadata": {
        "id": "nSM3AXg1J78E"
      },
      "execution_count": null,
      "outputs": []
    },
    {
      "cell_type": "code",
      "source": [
        "shap.plots.beeswarm(shap_values=shap_values_shapflex )"
      ],
      "metadata": {
        "colab": {
          "base_uri": "https://localhost:8080/",
          "height": 281
        },
        "id": "Ge7F5cqwJ_wt",
        "outputId": "aa36ec86-2a8d-4ab5-a23b-16c8c303e5fc"
      },
      "execution_count": null,
      "outputs": [
        {
          "output_type": "display_data",
          "data": {
            "text/plain": [
              "<Figure size 576x280.8 with 2 Axes>"
            ],
            "image/png": "[encoded data removed]"
          },
          "metadata": {
            "needs_background": "light"
          }
        }
      ]
    }
  ],
  "metadata": {
    "colab": {
      "collapsed_sections": [],
      "name": "shap_joint",
      "provenance": [],
      "include_colab_link": true
    },
    "kernelspec": {
      "display_name": "Python 3",
      "name": "python3"
    },
    "language_info": {
      "name": "python"
    }
  },
  "nbformat": 4,
  "nbformat_minor": 0
}